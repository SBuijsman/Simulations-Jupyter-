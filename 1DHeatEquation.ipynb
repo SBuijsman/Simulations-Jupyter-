{
 "cells": [
  {
   "cell_type": "markdown",
   "metadata": {},
   "source": [
    "# The One-Dimensional Heat Equation\n",
    "\n",
    "The heat equation in one dimension is given by\n",
    "\n",
    "$\\frac{\\partial T}{\\partial t} = \\alpha \\frac{\\partial^2 T}{\\partial^2 x}$.\n",
    "\n",
    "In this equation, $\\alpha$ is the thermal diffusion constant, which depends on the material and environmental properties. This is a partial differential equation, which may be solved analytically by Fourier-analysis. This is not done here, however. As a first step, we discretise the heat equation. The result will be\n",
    "\n",
    "$\\frac{T(x,\\ t + \\Delta t) - T(x, t)}{\\Delta t} = \\alpha \\frac{T(x + \\Delta x,\\ t) - 2 T(x,\\ t) + T(x - \\Delta x,\\ t)}{(\\Delta x)^2}$.\n",
    "\n",
    "Here, $\\Delta x$ and $\\Delta t$ are the separation of grid points and time steps respectively. Solving for $T(x,\\ t + \\Delta t)$, we immediately obtain\n",
    "\n",
    "$T(x,\\ t + \\Delta t) = T(x,\\ t) +  \\alpha \\frac{T(x + \\Delta x,\\ t) - 2 T(x,\\ t) + T(x - \\Delta x,\\ t)}{(\\Delta x)^2}\\Delta t$.\n",
    "\n",
    "We can replace $\\alpha \\frac{\\Delta t}{(\\Delta x)^2}$ by another constant $C$, simplifying the expression a little bit.\n",
    "\n",
    "$T(x,\\ t + \\Delta t) = T(x,\\ t) +  C \\left[ T(x + \\Delta x,\\ t) - 2 T(x,\\ t) + T(x - \\Delta x,\\ t) \\right]$.\n",
    "\n",
    "This equation can be expressed in terms of matrix multiplication if we express $T(x,\\ t)$ as a state vector, given by\n",
    "\n",
    "$T(x,\\ t) = \\begin{bmatrix}\n",
    "                T(0,\\ t) \\\\\n",
    "                T(\\Delta x,\\ t) \\\\\n",
    "                T(2\\Delta x,\\ t) \\\\\n",
    "                \\vdots \\\\\n",
    "                T((N_x-1)\\Delta x,\\ t) \\\\\n",
    "                T(L,\\ t)\n",
    "            \\end{bmatrix}$.\n",
    "\n",
    "Here, $L = N_x \\Delta x$, which is the width of our box and $N_x$ is the number of grid points. It can then be shown that \n",
    "\n",
    "$D \\left[ T(x + \\Delta x,\\ t) - 2 T(x,\\ t) + T(x - \\Delta x,\\ t) \\right] = C \\begin{bmatrix}\n",
    "                -2     & 1      & 0      & 0      & \\cdots & 0      & 0      \\\\\n",
    "                1      & -2     & 1      & 0      & \\cdots & 0      & 0      \\\\\n",
    "                0      & 1      & -2     & 1      & \\cdots & 0      & 0      \\\\\n",
    "                \\vdots & \\vdots & \\vdots & \\vdots & \\ddots & \\vdots & \\vdots \\\\\n",
    "                0      & 0      & 0      & 0      & \\cdots & -2     & 1      \\\\\n",
    "                0      & 0      & 0      & 0      & \\cdots & 1      & -2     \\\\\n",
    "            \\end{bmatrix}\n",
    "            \\begin{bmatrix}\n",
    "                T(0,\\ t) \\\\\n",
    "                T(\\Delta x,\\ t) \\\\\n",
    "                T(2\\Delta x,\\ t) \\\\\n",
    "                \\vdots \\\\\n",
    "                T((N_x-1)\\Delta x,\\ t) \\\\\n",
    "                T(L,\\ t)\n",
    "            \\end{bmatrix}$.\n",
    "            \n",
    "At this point, it certainly becomes more convenient to express $T(x, t)$ in a different way. We write\n",
    "\n",
    "$T(x, t) = T^m_n$,\n",
    "\n",
    "where $m$ denotes the x-component and $n$ denotes the $t$ component of $T$ respectively. In this notation we can write\n",
    "\n",
    "$C \\left[ T(x + \\Delta x,\\ t) - 2 T(x,\\ t) + T(x - \\Delta x,\\ t) \\right] = C \\left[ T^{m+1}_n - 2 T^m_n + T^{m-1}_n \\right]$.\n",
    "\n",
    "We can plug this back in our original equation for $T(x,\\ t + \\Delta t) = T^m_{n+1}$ as\n",
    "\n",
    "$T^m_{n+1} = T^m_n + C \\left[ T^{m+1}_n - 2 T^m_n + T^{m-1}_n \\right]$.\n",
    "\n",
    "The matrix equation above then becomes\n",
    "\n",
    "$C \\left[ T^{m+1}_n - 2 T^m_n + T^{m-1}_n \\right] = C \\begin{bmatrix}\n",
    "                -2     & 1      & 0      & 0      & \\cdots & 0      & 0      \\\\\n",
    "                1      & -2     & 1      & 0      & \\cdots & 0      & 0      \\\\\n",
    "                0      & 1      & -2     & 1      & \\cdots & 0      & 0      \\\\\n",
    "                \\vdots & \\vdots & \\vdots & \\vdots & \\ddots & \\vdots & \\vdots \\\\\n",
    "                0      & 0      & 0      & 0      & \\cdots & -2     & 1      \\\\\n",
    "                0      & 0      & 0      & 0      & \\cdots & 1      & -2     \\\\\n",
    "            \\end{bmatrix}\n",
    "            \\begin{bmatrix}\n",
    "                T^0_n \\\\\n",
    "                T^1_n \\\\\n",
    "                T^2_n \\\\\n",
    "                \\vdots \\\\\n",
    "                T^{N_x - 1}_n \\\\\n",
    "                T^{N_x}_n\n",
    "            \\end{bmatrix}$.\n",
    "            \n",
    "And combining this with our previous equation, we get\n",
    "\n",
    "$ \\begin{bmatrix}\n",
    "   T^0_{n+1} \\\\\n",
    "   T^1_{n+1} \\\\\n",
    "   T^2_{n+1} \\\\\n",
    "   \\vdots \\\\\n",
    "   T^{N_x - 1}_{n+1} \\\\\n",
    "   T^{N_x}_{n+1}\n",
    "  \\end{bmatrix} = \n",
    "  \\begin{bmatrix}\n",
    "   T^0_n \\\\\n",
    "   T^1_n \\\\\n",
    "   T^2_n \\\\\n",
    "   \\vdots \\\\\n",
    "   T^{N_x - 1}_n \\\\\n",
    "   T^{N_x}_n\n",
    "  \\end{bmatrix}\n",
    "  +  C \\begin{bmatrix}\n",
    "                -2     & 1      & 0      & 0      & \\cdots & 0      & 0      \\\\\n",
    "                1      & -2     & 1      & 0      & \\cdots & 0      & 0      \\\\\n",
    "                0      & 1      & -2     & 1      & \\cdots & 0      & 0      \\\\\n",
    "                \\vdots & \\vdots & \\vdots & \\vdots & \\ddots & \\vdots & \\vdots \\\\\n",
    "                0      & 0      & 0      & 0      & \\cdots & -2     & 1      \\\\\n",
    "                0      & 0      & 0      & 0      & \\cdots & 1      & -2     \\\\\n",
    "            \\end{bmatrix}\n",
    "            \\begin{bmatrix}\n",
    "                T^0_n \\\\\n",
    "                T^1_n \\\\\n",
    "                T^2_n \\\\\n",
    "                \\vdots \\\\\n",
    "                T^{N_x - 1}_n \\\\\n",
    "                T^{N_x}_n\n",
    "            \\end{bmatrix}$.\n",
    "\n",
    "This expression can be simplified a little further by noting that the first vector on the RHS is the equal to the identity matrix times the vector itself. We can then take this identity matrix out of the brackets and add it to the derivative matrix. This gives\n",
    "\n",
    "$ \\begin{bmatrix}\n",
    "   T^0_{n+1} \\\\\n",
    "   T^1_{n+1} \\\\\n",
    "   T^2_{n+1} \\\\\n",
    "   \\vdots \\\\\n",
    "   T^{N_x - 1}_{n+1} \\\\\n",
    "   T^{N_x}_{n+1}\n",
    "  \\end{bmatrix} = \n",
    "            \\begin{bmatrix}\n",
    "                1-2C   & C      & 0      & 0      & \\cdots & 0      & 0      \\\\\n",
    "                C      & 1-2C   & C      & 0      & \\cdots & 0      & 0      \\\\\n",
    "                0      & C      & 1-2C   & C      & \\cdots & 0      & 0      \\\\\n",
    "                \\vdots & \\vdots & \\vdots & \\vdots & \\ddots & \\vdots & \\vdots \\\\\n",
    "                0      & 0      & 0      & 0      & \\cdots & 1-2C   & C      \\\\\n",
    "                0      & 0      & 0      & 0      & \\cdots & C      & 1-2C   \\\\\n",
    "            \\end{bmatrix}\n",
    "            \\begin{bmatrix}\n",
    "                T^0_n \\\\\n",
    "                T^1_n \\\\\n",
    "                T^2_n \\\\\n",
    "                \\vdots \\\\\n",
    "                T^{N_x - 1}_n \\\\\n",
    "                T^{N_x}_n\n",
    "            \\end{bmatrix}$.\n",
    "            \n",
    "We can call this matrix $D$, giving \n",
    "\n",
    "$D = \\begin{bmatrix}\n",
    "                1-2C   & C      & 0      & 0      & \\cdots & 0      & 0      \\\\\n",
    "                C      & 1-2C   & C      & 0      & \\cdots & 0      & 0      \\\\\n",
    "                0      & C      & 1-2C   & C      & \\cdots & 0      & 0      \\\\\n",
    "                \\vdots & \\vdots & \\vdots & \\vdots & \\ddots & \\vdots & \\vdots \\\\\n",
    "                0      & 0      & 0      & 0      & \\cdots & 1-2C   & C      \\\\\n",
    "                0      & 0      & 0      & 0      & \\cdots & C      & 1-2C   \\\\\n",
    "            \\end{bmatrix}$.\n",
    "            \n",
    "Our expression then becomes\n",
    "\n",
    "$ \\begin{bmatrix}\n",
    "   T^0_{n+1} \\\\\n",
    "   T^1_{n+1} \\\\\n",
    "   T^2_{n+1} \\\\\n",
    "   \\vdots \\\\\n",
    "   T^{N_x - 1}_{n+1} \\\\\n",
    "   T^{N_x}_{n+1}\n",
    "  \\end{bmatrix} = \n",
    "          D \\begin{bmatrix}\n",
    "                T^0_n \\\\\n",
    "                T^1_n \\\\\n",
    "                T^2_n \\\\\n",
    "                \\vdots \\\\\n",
    "                T^{N_x - 1}_n \\\\\n",
    "                T^{N_x}_n\n",
    "            \\end{bmatrix}$.\n",
    "\n",
    "This expression can be understood as follows. The temperature configuration, defined in terms of a state vector, at the new time is the temperature configuration at some old time multiplied by a matrix. In order for this calculation to be stable, $C \\leq \\frac{1}{2}$, or in terms of our initial constants, $2\\alpha \\frac{\\Delta t}{(\\Delta x)^2} \\leq 1$. This is called the CFL condition."
   ]
  },
  {
   "cell_type": "markdown",
   "metadata": {},
   "source": [
    "### Packages\n",
    "\n",
    "First, a few packages need to be included."
   ]
  },
  {
   "cell_type": "code",
   "execution_count": 26,
   "metadata": {},
   "outputs": [],
   "source": [
    "import matplotlib.pyplot as plt             # for plotting\n",
    "import math                                 # for pi etc.\n",
    "import numpy as np                          # for numpy\n",
    "import numpy.linalg as la                   # for linear algebra\n",
    "import scipy.sparse as sp                   # for sparse matrices"
   ]
  },
  {
   "cell_type": "markdown",
   "metadata": {},
   "source": [
    "### Physical Constants\n",
    "\n",
    "Below are the physical constants used in this simulation."
   ]
  },
  {
   "cell_type": "code",
   "execution_count": 27,
   "metadata": {},
   "outputs": [],
   "source": [
    "L = 5                                       # [m] Length of rod.\n",
    "R = 0.02                                    # [m] Radius of rod.\n",
    "\n",
    "rho = 8960                                  # [kg/m³] Density of copper.\n",
    "Alpha = 11e-6                               # [m²/s] Thermal diffusivity of copper.\n",
    "C_cu = 380                                  # [J/kgK] Specific heat capacity of copper.\n",
    "\n",
    "mass = rho * math.pi*R*R*L                  # [kg] Mass of rod.\n",
    "C_tot = C_cu * mass                         # [J/K] Heat capacity of rod."
   ]
  },
  {
   "cell_type": "markdown",
   "metadata": {},
   "source": [
    "### Numerical Constants\n",
    "\n",
    "Numerical constants used in this simulation are given below."
   ]
  },
  {
   "cell_type": "code",
   "execution_count": 45,
   "metadata": {},
   "outputs": [
    {
     "name": "stdout",
     "output_type": "stream",
     "text": [
      "6.313131313131313\n"
     ]
    }
   ],
   "source": [
    "T = 100000                                  # [s] Total time.\n",
    "\n",
    "Nx = 300                                    # [] Number of grid points along rod.\n",
    "\n",
    "dx = L/Nx                                   # [m] Distance step size.\n",
    "ft = 2                                      # [] A dimensionless factor determining the timestep dt. Must be greater than or equal to 1 to ensure numerical stability.\n",
    "dt = dx*dx /(ft * 2 * Alpha)                # [s] Time step size.\n",
    "\n",
    "print(dt)\n",
    "\n",
    "Nt = math.ceil(T/dt)                        # [] Number of time steps.\n",
    "\n",
    "D = Alpha*dt/(dx*dx)                        # [] Recurring constant.\n",
    "\n",
    "H = 50                                      # [W] Heat added per second."
   ]
  },
  {
   "cell_type": "markdown",
   "metadata": {},
   "source": [
    "### Arrays and Matrices\n",
    "\n",
    "Below we will define the arrays and matrices."
   ]
  },
  {
   "cell_type": "code",
   "execution_count": 46,
   "metadata": {},
   "outputs": [],
   "source": [
    "uxt = np.array([0.]*(Nx+1))                                     # [K] Matrix representing temperature.\n",
    "Hmat = sp.csr_matrix(((Nx+1), (Nx+1)), dtype = float).toarray() # [] Time evolution matrix.\n",
    "Heat = np.array([0.]*(Nx+1))                                    # [K/s] Heat array.\n",
    "X = np.arange(0, L+dx, dx)                                      # [m] Array with all position coordinates."
   ]
  },
  {
   "cell_type": "markdown",
   "metadata": {},
   "source": [
    "### Initial Conditions\n",
    "\n",
    "We will define three functions as an initial temperature distribution. We can choose which one we want to use."
   ]
  },
  {
   "cell_type": "code",
   "execution_count": 47,
   "metadata": {},
   "outputs": [],
   "source": [
    "#------------------------------------------------------- Initial Distributions\n",
    "# Gaussian distribution with:\n",
    "# T0 the base temperature\n",
    "# Tmax the height of the gaussian peak\n",
    "# Centre the centre of the gaussian distribution\n",
    "# Delta the width of the gaussian distribution\n",
    "# x the position at which the temperature is to be determined\n",
    "def gaussian(T0, Tmax, Centre, Delta, x):\n",
    "    return T0 + Tmax * math.exp(-pow((x - Centre)/Delta, 2))\n",
    "\n",
    "# Sinusoidal distribution with:\n",
    "# T0 the base temperature\n",
    "# Tmax the amplitude of the sine\n",
    "# Length the length of the rod\n",
    "# x the position at which the temperature is to be determined\n",
    "def sine(T0, Tmax, Length, x):\n",
    "    return T0 + Tmax * math.sin(2*math.pi * x/Length)\n",
    "\n",
    "# Linear distribution with:\n",
    "# T0 the base temperature\n",
    "# Slope the slope of the linear distribution\n",
    "# x the position at which the temperature is to be determined\n",
    "def linear(T0, Slope, x):\n",
    "    return T0 + Slope*x"
   ]
  },
  {
   "cell_type": "markdown",
   "metadata": {},
   "source": [
    "### Choice of Initial Function\n",
    "\n",
    "In the part below, we fill in the initial temperature distribution. We can comment out the distributions we are not interested in and keep the one we want. Of course, we can use any function as an initial condition."
   ]
  },
  {
   "cell_type": "code",
   "execution_count": 48,
   "metadata": {},
   "outputs": [],
   "source": [
    "Hmat[0, 1] = 1                              # This boundary condition ensures that du/dx(x=0) = 0 at every timestep.\n",
    "Hmat[Nx, Nx-1] = 1                          # This boundary condition ensures that du/dx(x=L) = 0 at every timestep.\n",
    "\n",
    "for kk in range(0, Nx+1):                   # The initial condition is a Gaussian temperature distribution.\n",
    "    uxt[kk] = gaussian(300, 200, L/3, L/7.5, kk*dx)          # Gaussian\n",
    "    #uxt[kk] = sine(300, 200, L, kk*dx)                    # Sine\n",
    "    #uxt[kk] = linear(300, 40, kk*dx)                      # Linear"
   ]
  },
  {
   "cell_type": "markdown",
   "metadata": {},
   "source": [
    "### Defining the H-Matrix and the Heat Array\n",
    "\n",
    "It is inconvenient that I called both the time evolution matrix and the heat array $H$. Therefore, a distinction will be made in the name. The time evolution matrix is called \"Hmat\" and the heat array is called \"Heat\"."
   ]
  },
  {
   "cell_type": "code",
   "execution_count": 49,
   "metadata": {},
   "outputs": [],
   "source": [
    "#----------------------------------------------------------- Fill the H-matrix\n",
    "for ii in range(1, Nx):                     # The H-matrix is defined according to the finite-element method.\n",
    "    Hmat[ii, ii] = 1-2*D\n",
    "    Hmat[ii, ii+1] = D\n",
    "    Hmat[ii, ii-1] = D\n",
    "\n",
    "#------------------------------------------------------- Define the heat array\n",
    "for mm in range(math.floor(Nx/3), math.floor(Nx/3) + 10):\n",
    "    Heat[mm] = H/C_tot*dt"
   ]
  },
  {
   "cell_type": "markdown",
   "metadata": {},
   "source": [
    "### Time Evolution\n",
    "\n",
    "The time evolution is performed below. The plotting is performed in the same code. This is done to make the calculation quicker."
   ]
  },
  {
   "cell_type": "code",
   "execution_count": 50,
   "metadata": {},
   "outputs": [
    {
     "data": {
      "image/png": "[encoded data removed]",
      "text/plain": [
       "<Figure size 432x288 with 1 Axes>"
      ]
     },
     "metadata": {
      "needs_background": "light"
     },
     "output_type": "display_data"
    }
   ],
   "source": [
    "#-------------------------------------------------------------- Time Evolution\n",
    "# Four times at which the temperature distribution is evaluated\n",
    "T2 = math.floor(Nt/5)                       # [] Time 2\n",
    "T3 = math.floor(3*Nt/5)                     # [] Time 3\n",
    "T4 = Nt                                     # [] Time 4\n",
    "\n",
    "# Initialises legend and plots the initial state\n",
    "ax = plt.subplot(111)\n",
    "ax.plot(X, uxt, label='t = '+str('0 min'))\n",
    "\n",
    "for jj in range(1, Nt+1):\n",
    "    uxt = Hmat @ uxt + Heat                  # The next state is calculated by multiplying the Hmatrix by the previous state.\n",
    "\n",
    "    # At T2, T3 and T4, uxt is plotted.\n",
    "    if jj == T2:\n",
    "        ax.plot(X, uxt, label='t = '+str(math.floor(T*T2/(60*Nt)))+' min')\n",
    "\n",
    "    if jj == T3:\n",
    "        ax.plot(X, uxt, label='t = '+str(math.floor(T*T3/(60*Nt)))+' min')\n",
    "\n",
    "    if jj == T4:\n",
    "        ax.plot(X, uxt, label='t = '+str(math.floor(T*T4/(60*Nt)))+' min')\n",
    "        \n",
    "#-------------------------------------------------------------------- Plotting\n",
    "                                    # Axis and graph titles\n",
    "plt.title('One-Dimensional Heat Conductor')\n",
    "plt.xlabel('Position Along Rod [m]')\n",
    "plt.ylabel('Temperature [K]')\n",
    "\n",
    "                                    # Display a grid and show the plots and legend\n",
    "ax.legend()\n",
    "plt.grid(True)\n",
    "plt.show()"
   ]
  },
  {
   "cell_type": "markdown",
   "metadata": {},
   "source": [
    "### Concluding Remarks\n",
    "\n",
    "The simulation works as expected and is in the most general form for a one-dimensional problem. We will reuse part of this analysis when we investigate time evolution of the quantum-mechanical wave function."
   ]
  }
 ],
 "metadata": {
  "kernelspec": {
   "display_name": "Python 3",
   "language": "python",
   "name": "python3"
  },
  "language_info": {
   "codemirror_mode": {
    "name": "ipython",
    "version": 3
   },
   "file_extension": ".py",
   "mimetype": "text/x-python",
   "name": "python",
   "nbconvert_exporter": "python",
   "pygments_lexer": "ipython3",
   "version": "3.8.5"
  }
 },
 "nbformat": 4,
 "nbformat_minor": 4
}
