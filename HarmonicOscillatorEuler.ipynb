{
 "cells": [
  {
   "cell_type": "markdown",
   "metadata": {},
   "source": [
    "# The Harmonic Oscillator\n",
    "## Using Euler's Method\n",
    "\n",
    "### The Theory\n",
    "\n",
    "In this project, we simulate the damped and driven harmonic oscillator by means of Euler's method. The differential equation describing the harmonic oscillator of mass $m$ can be derived from Newton's second law,\n",
    "\n",
    "$ \\sum F = m\\ddot{x} $.\n",
    "\n",
    "There are three forces acting on the mass are: <br>\n",
    "$F_s = -kx$ (the force of the spring is proportional to the diplacement and opposite in direction) <br>\n",
    "$F_d = -\\beta \\dot{x}$ (the damping force is proportional to the speed and opposite in direction) <br>\n",
    "$F = F(t)$ (the driving force is some function of time)\n",
    "\n",
    "Here, $k$ is the spring constant in units of $[N/m]$, $\\beta$ is the damping constant in units of $[N/ms^{-1}]$ and $F(t)$ has units of $[N]$. Plugging these forces into Newton's second law yields\n",
    "\n",
    "$F(t) - kx - \\beta\\dot{x} = m\\ddot{x}$.\n",
    "\n",
    "It is often more convenient to move all terms involving $x$ and its derivatives to the left hand side (LHS) and the rest to the right hand side (RHS), giving\n",
    "\n",
    "$m\\ddot{x} + \\beta\\dot{x} + kx = F(t)$.\n",
    "\n",
    "It is usually simpler to divide by $m$ to simplify the expression;\n",
    "\n",
    "$\\ddot{x} + \\beta/m \\dot{x} + k/m x = F(t)/m $.\n",
    "\n",
    "To simplify further, the following substitutions are performed: <br>\n",
    "$\\beta/m = 2\\gamma$ (the factor of 2 simplifies the solution of the DE) <br>\n",
    "$k/m = \\omega_0^2$ (the eigenfrequency of the oscillator) <br>\n",
    "$F(t)/m = A(t)$ <br>\n",
    "\n",
    "The resulting DE is\n",
    "\n",
    "$\\ddot{x} + 2\\gamma\\dot{x} + \\omega_0^2 x = A(t) $.\n",
    "\n",
    "This differential equation can be solved if $F(t)$ and thus $A(t)$ is known.\n",
    "\n",
    "### Euler's Method\n",
    "Euler's method for solving a differential equation starts from substituting derivatives of the function by its discrete definition,\n",
    "\n",
    "$\\dot{x} = \\frac{x(t + \\Delta t) - x(t)}{\\Delta t}$.\n",
    "\n",
    "The second derivative of $x$ can be found by applying the above equation again to $x(t + \\Delta t)$ and $x(t)$, yielding\n",
    "\n",
    "$\\ddot{x} = \\frac{x(t + \\Delta t) - 2x(t) + x(t - \\Delta t)}{(\\Delta t)^2}$.\n",
    "\n",
    "Substituting these equations into the original differential equation gives\n",
    "\n",
    "$\\frac{x(t + \\Delta t) - 2x(t) + x(t - \\Delta t)}{(\\Delta t)^2} + 2\\gamma \\frac{x(t + \\Delta t) - x(t)}{\\Delta t} + \\omega_0^2 x(t) = A(t)$.\n",
    "\n",
    "The goal is to find $x(t + \\Delta t$ when $x(t)$ and $x(t-\\Delta t)$ are given. In order to do this, we need to solve for $x(t + \\Delta t)$. Doing this yields\n",
    "\n",
    "$x(t + \\Delta t) = \\frac{1}{1 + 2\\gamma\\delta} \\left[A(t) + 2x(t)\\left(1 + \\gamma\\delta - \\omega_0^2/2 \\right) - x(t-\\Delta t) \\right]$.\n",
    "\n",
    "Given two initial conditions, $x(t = 0) = x_0$ and $\\dot{x}(t = 0) = v_0$, this can be solved numerically for any $A(t)$.\n",
    "\n",
    "### Parameters\n"
   ]
  },
  {
   "cell_type": "code",
   "execution_count": 3,
   "metadata": {},
   "outputs": [],
   "source": [
    "mass = 2                            # [kg] mass of the oscillator\n",
    "k = 3                               # [N/m] spring constant of oscillator\n",
    "d = 0.1                             # [Ns/m] damping constant of oscillator\n",
    "omega2 = k/mass                     # [1/s²] eigenfrequency of oscillator squared\n",
    "omega = pow(omega2, 1/2)            # [1/s] eigenfrequency of oscillator\n",
    "omegad = .8*omega                   # [1/s] driving frequency\n",
    "F0 = 2                              # [N] driving amplitude"
   ]
  }
 ],
 "metadata": {
  "kernelspec": {
   "display_name": "Python 3",
   "language": "python",
   "name": "python3"
  },
  "language_info": {
   "codemirror_mode": {
    "name": "ipython",
    "version": 3
   },
   "file_extension": ".py",
   "mimetype": "text/x-python",
   "name": "python",
   "nbconvert_exporter": "python",
   "pygments_lexer": "ipython3",
   "version": "3.8.5"
  }
 },
 "nbformat": 4,
 "nbformat_minor": 4
}
